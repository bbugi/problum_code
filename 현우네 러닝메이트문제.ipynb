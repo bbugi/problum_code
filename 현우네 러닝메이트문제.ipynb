{
 "cells": [
  {
   "cell_type": "markdown",
   "id": "b7d4b3cf-241a-4f7e-87b7-2f74d007975a",
   "metadata": {},
   "source": [
    "# 현우 힌트\n",
    "1. 2231- 분해합\n",
    "브루트 포스(완전 탐색) 알고리즘으로 분류되어 있는 문제입니다  \n",
    "완전 탐색은 전체 경우의 수를 모두 탐색한다는 의미이고  \n",
    "이 문제에서는 전체 경우의 수가 주어진 수보다 작은 모든 수를 의미해요  \n",
    "위 힌트를 생각하면서 풀어보세요  \n",
    "\n",
    "2. 14889- 스타트와 링크\n",
    "구현으로 분류되어 있는 문제입니다  \n",
    "주어지는 입력을 이중배열로 잘 받은 후에 위의 완전 탐색을 사용하여 풀어보세요  \n",
    "잘 안되면 파이썬 라이브러리의 itertools를 검색해보세요  \n",
    "\n",
    "3. 2606- 바이러스\n",
    "그래프 이론과 탐색에 관련한 문제입니다  \n",
    "처음보면 굉장히 생소하고 감이 안올거에요  \n",
    "그래프를 구성하는 방법은 여러가지가 있는데 저는 주로 dictionary 자료형을 사용해요  \n",
    "dictionary나 이중배열 등을 사용하여 index를 vertex로, value를 index와 이어진 vertex로 사용해서  \n",
    "edge도 정보를 담으면 돼요  \n",
    "탐색의 경우 고민하다 잘 안되면 dfs와 bfs를 검색하여 알고리즘 흐름을 느껴보세요  \n",
    "\n",
    "난이도는 1번 2번 3번 순서이며 난이도 순서대로 문제 풀어보세요  \n",
    "1번과 2번은 충분히 고민하고 풀어보면 좋을 거 같구 모르는 거 생기면 물어보세요  \n",
    "3번은 사실 그래프, 트리의 자료구조와 거기서 파생하는 알고리즘을 맛만 보시라고 올려드린 거라  \n",
    "너무 오래 고민하지 마시고 질문게시판이나 구글링을 통해 공부하시는 것도 좋아요  \n",
    "방학동안 충분히 쉬고 중간중간 심심할때 한번 보세요~~  "
   ]
  },
  {
   "cell_type": "markdown",
   "id": "3c5a85ea-fac4-4b53-a252-f064f2718837",
   "metadata": {},
   "source": [
    "# 2231 - 분해합"
   ]
  },
  {
   "cell_type": "code",
   "execution_count": null,
   "id": "1eab8777-21cd-46ee-9eef-cb43d39e757c",
   "metadata": {},
   "outputs": [],
   "source": [
    "# 216이 분해합이다\n",
    "# 분해합은\n",
    "# n = m + m[0] + m[1] + m[2] + .... + m[-1] 이런 형태로 이루어져 있다.\n",
    "# 여기서 생성자 m을 구하라?\n",
    "\n",
    "# 브루트포스 알고리즘\n",
    "# 간단한 알고리즘 방식 중 하나로 가능한 모든 경우의 수를 모두 탐색해서 정답을 찾아내는 방식"
   ]
  },
  {
   "cell_type": "code",
   "execution_count": 39,
   "id": "5381ddf7-60b8-4d73-abd7-597613338fb8",
   "metadata": {},
   "outputs": [
    {
     "name": "stdin",
     "output_type": "stream",
     "text": [
      " 1\n"
     ]
    },
    {
     "name": "stdout",
     "output_type": "stream",
     "text": [
      "1\n"
     ]
    }
   ],
   "source": [
    "# 풀이\n",
    "n = int(input())\n",
    "print(n)"
   ]
  },
  {
   "cell_type": "code",
   "execution_count": 30,
   "id": "4ed8c6bf-8c2e-4183-aa87-e5c4fb3f6486",
   "metadata": {},
   "outputs": [],
   "source": [
    "x = 198"
   ]
  },
  {
   "cell_type": "code",
   "execution_count": 31,
   "id": "e0d940bd-2e78-4d95-8397-74c13acd07f1",
   "metadata": {},
   "outputs": [],
   "source": [
    "m = list(map(int,str(x)))"
   ]
  },
  {
   "cell_type": "code",
   "execution_count": 32,
   "id": "aefa6600-9383-4d79-a2fc-9acb052c68de",
   "metadata": {},
   "outputs": [
    {
     "data": {
      "text/plain": [
       "[1, 9, 8]"
      ]
     },
     "execution_count": 32,
     "metadata": {},
     "output_type": "execute_result"
    }
   ],
   "source": [
    "m"
   ]
  },
  {
   "cell_type": "code",
   "execution_count": 33,
   "id": "428b3ab9-72db-42ea-bebb-e9c0e3d5a164",
   "metadata": {},
   "outputs": [
    {
     "data": {
      "text/plain": [
       "216"
      ]
     },
     "execution_count": 33,
     "metadata": {},
     "output_type": "execute_result"
    }
   ],
   "source": [
    "sum(m) + x"
   ]
  },
  {
   "cell_type": "code",
   "execution_count": 34,
   "id": "5cbad0e8-5632-48d0-a7e9-e5a021e3a286",
   "metadata": {},
   "outputs": [
    {
     "name": "stdout",
     "output_type": "stream",
     "text": [
      "yes\n"
     ]
    }
   ],
   "source": [
    "if (sum(m)+x) == n:\n",
    "    print('yes')\n",
    "else:\n",
    "    print('no')"
   ]
  },
  {
   "cell_type": "code",
   "execution_count": 25,
   "id": "6c436c82-2e15-400a-bdcd-be09b9714d99",
   "metadata": {},
   "outputs": [
    {
     "name": "stdin",
     "output_type": "stream",
     "text": [
      " 7\n"
     ]
    },
    {
     "name": "stdout",
     "output_type": "stream",
     "text": [
      "0\n"
     ]
    }
   ],
   "source": [
    "# 최종 제출 정답\n",
    "n = int(input())\n",
    "\n",
    "x_list = []\n",
    "x = 0\n",
    "for x in range(1,n):\n",
    "    m = list(map(int, str(x)))\n",
    "    if (sum(m)+x) == n:\n",
    "        x_list.append(x)\n",
    "    else:\n",
    "        pass\n",
    "\n",
    "if not x_list:\n",
    "    print(0)\n",
    "else:\n",
    "    print(min(x_list))"
   ]
  },
  {
   "cell_type": "code",
   "execution_count": null,
   "id": "3be3f2a1-7f26-4a77-9281-f82381a95b77",
   "metadata": {},
   "outputs": [],
   "source": []
  },
  {
   "cell_type": "code",
   "execution_count": 27,
   "id": "e3a46783-cef4-4b51-9c44-e2e82f4b89a5",
   "metadata": {},
   "outputs": [
    {
     "name": "stdin",
     "output_type": "stream",
     "text": [
      " 216\n"
     ]
    },
    {
     "name": "stdout",
     "output_type": "stream",
     "text": [
      "198\n"
     ]
    }
   ],
   "source": [
    "# 종은이 코드 확인 -> def 함수 ~ return으로 받았을땐 안풀리고, 걍 print로 출력했을때는 나와짐\n",
    "n = int(input())   # 자연수 N\n",
    "x = 0\n",
    "lst = []\n",
    "\n",
    "def num(n):  \n",
    "  # 분해합(x) 구하기\n",
    "  for i in range(1, n):\n",
    "    x = sum(map(int, str(i))) + i\n",
    "    # x = i + (i//100000) + ((i//10000)%10) + ((i//1000)%10) + ((i//100)%10) + ((i//10)%10) + (i%10)\n",
    "    \n",
    "    # 분해합(x) 중 자연수 N과 일치하는 경우, 분해합 하기 전 숫자(i) 리스트에 넣기\n",
    "    if x == n:\n",
    "        lst.append(i)\n",
    "\n",
    "  # 리스트 안의 가장 작은 수 리턴, 리스트 안의 생성자가 없으면 0을 리턴\n",
    "  if lst :\n",
    "    return min(lst)\n",
    "  else:\n",
    "    return 0\n",
    "\n",
    "print(num(n))"
   ]
  },
  {
   "cell_type": "code",
   "execution_count": null,
   "id": "98ca3f78-dd17-4e6f-915c-01fc5f4d953f",
   "metadata": {},
   "outputs": [],
   "source": []
  },
  {
   "cell_type": "code",
   "execution_count": null,
   "id": "49f8a0d3-584e-4314-8320-20ac23bc6dea",
   "metadata": {},
   "outputs": [],
   "source": []
  },
  {
   "cell_type": "code",
   "execution_count": null,
   "id": "d49ae004-716d-4bfc-99ad-ab36fc6071cf",
   "metadata": {},
   "outputs": [],
   "source": []
  },
  {
   "cell_type": "markdown",
   "id": "7bd43d59-10a6-4f03-bac2-1851ca2dbb79",
   "metadata": {},
   "source": [
    "# 14889 - 스타트와 링크"
   ]
  },
  {
   "cell_type": "code",
   "execution_count": 64,
   "id": "2cd6127d-9158-4900-a8a3-4b76c3e8d871",
   "metadata": {},
   "outputs": [
    {
     "name": "stdin",
     "output_type": "stream",
     "text": [
      " 4\n"
     ]
    },
    {
     "name": "stdout",
     "output_type": "stream",
     "text": [
      "4\n"
     ]
    }
   ],
   "source": [
    "n = int(input())\n",
    "print(n)"
   ]
  },
  {
   "cell_type": "code",
   "execution_count": 69,
   "id": "5f4b52d8-a580-4bf1-8380-9eec3da7c185",
   "metadata": {},
   "outputs": [
    {
     "name": "stdin",
     "output_type": "stream",
     "text": [
      " 0 1 2 3\n",
      " 4 0 5 6\n",
      " 7 1 0 2\n",
      " 3 4 5 0\n"
     ]
    }
   ],
   "source": [
    "for _ in range(n):\n",
    "    a = list(map(int,input().split()))"
   ]
  },
  {
   "cell_type": "code",
   "execution_count": 70,
   "id": "de95bc9f-be4f-4c13-a5b4-288a2b150aeb",
   "metadata": {},
   "outputs": [
    {
     "name": "stdout",
     "output_type": "stream",
     "text": [
      "[3, 4, 5, 0]\n"
     ]
    }
   ],
   "source": [
    "print(a)"
   ]
  },
  {
   "cell_type": "code",
   "execution_count": 84,
   "id": "f6aa2c25-d217-4a2f-8f8b-af8e6b1ea3e8",
   "metadata": {},
   "outputs": [
    {
     "name": "stdin",
     "output_type": "stream",
     "text": [
      " 0 1 2 3\n",
      " 4 0 5 6\n",
      " 7 1 0 2\n",
      " 3 4 5 0\n"
     ]
    }
   ],
   "source": [
    "a_list = []\n",
    "for _ in range(n):\n",
    "    a = list(map(int,input().split()))\n",
    "    a_list.append(a)"
   ]
  },
  {
   "cell_type": "code",
   "execution_count": 85,
   "id": "d0637bb3-338a-487e-bf4f-73a8e2430b17",
   "metadata": {},
   "outputs": [
    {
     "name": "stdout",
     "output_type": "stream",
     "text": [
      "[[0, 1, 2, 3], [4, 0, 5, 6], [7, 1, 0, 2], [3, 4, 5, 0]]\n"
     ]
    }
   ],
   "source": [
    "print(a_list)"
   ]
  },
  {
   "cell_type": "code",
   "execution_count": 97,
   "id": "6f7af799-ecc0-4568-826f-1b8bbfc90421",
   "metadata": {},
   "outputs": [
    {
     "data": {
      "text/plain": [
       "0"
      ]
     },
     "execution_count": 97,
     "metadata": {},
     "output_type": "execute_result"
    }
   ],
   "source": [
    "a_list[1][1]"
   ]
  },
  {
   "cell_type": "code",
   "execution_count": 99,
   "id": "d28bfaf6-0105-4a30-b318-4bd922112e2d",
   "metadata": {},
   "outputs": [
    {
     "name": "stdout",
     "output_type": "stream",
     "text": [
      "0 1 2 3 \n",
      "4 0 5 6 \n",
      "7 1 0 2 \n",
      "3 4 5 0 \n"
     ]
    }
   ],
   "source": [
    "for i in range(n):\n",
    "    for j in range(n):\n",
    "        print(a_list[i][j], end=' ')\n",
    "    print()"
   ]
  },
  {
   "cell_type": "code",
   "execution_count": 109,
   "id": "20442e7b-1568-41f2-b9d7-869bbc57dc14",
   "metadata": {},
   "outputs": [
    {
     "name": "stdout",
     "output_type": "stream",
     "text": [
      "0\n",
      "1\n",
      "2\n",
      "3\n"
     ]
    }
   ],
   "source": [
    "for i in range(n):\n",
    "    print(i)"
   ]
  },
  {
   "cell_type": "code",
   "execution_count": null,
   "id": "68e252a1-5e0d-4e72-b7dd-e8ed86fcbe97",
   "metadata": {},
   "outputs": [],
   "source": []
  },
  {
   "cell_type": "code",
   "execution_count": null,
   "id": "479a5f80-5d13-450c-a060-04af843a53d0",
   "metadata": {},
   "outputs": [],
   "source": [
    "# 최종 제출 정답\n",
    "n = int(input())\n",
    "\n",
    "x_list = []\n",
    "x = 0\n",
    "for x in range(1,n):\n",
    "    m = list(map(int, str(x)))\n",
    "    if (sum(m)+x) == n:\n",
    "        x_list.append(x)\n",
    "    else:\n",
    "        pass\n",
    "\n",
    "if not x_list:\n",
    "    print(0)\n",
    "else:\n",
    "    print(min(x_list))"
   ]
  }
 ],
 "metadata": {
  "kernelspec": {
   "display_name": "Python 3 (ipykernel)",
   "language": "python",
   "name": "python3"
  },
  "language_info": {
   "codemirror_mode": {
    "name": "ipython",
    "version": 3
   },
   "file_extension": ".py",
   "mimetype": "text/x-python",
   "name": "python",
   "nbconvert_exporter": "python",
   "pygments_lexer": "ipython3",
   "version": "3.9.13"
  }
 },
 "nbformat": 4,
 "nbformat_minor": 5
}
