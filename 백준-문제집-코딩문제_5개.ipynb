{
 "cells": [
  {
   "cell_type": "markdown",
   "id": "af4bc16f-8696-4c31-bba8-1a31e76e09b1",
   "metadata": {},
   "source": [
    "# 2566번 - 최댓값"
   ]
  },
  {
   "cell_type": "code",
   "execution_count": 90,
   "id": "11491a67-d472-4b32-80c4-7850be4773b2",
   "metadata": {},
   "outputs": [
    {
     "name": "stdin",
     "output_type": "stream",
     "text": [
      " 3 23 85 34 17 74 25 52 65\n",
      " 10 7 39 42 88 52 14 72 63\n",
      " 87 42 18 78 53 45 18 84 53\n",
      " 34 28 64 85 12 16 75 36 55\n",
      " 21 77 45 35 28 75 90 76 1\n",
      " 25 87 65 15 28 11 37 28 74\n",
      " 65 27 75 41 7 89 78 64 39\n",
      " 47 47 70 45 23 65 3 41 44\n",
      " 87 13 82 38 31 12 29 29 80\n"
     ]
    }
   ],
   "source": [
    "s = list(input().split() for _ in range(9))"
   ]
  },
  {
   "cell_type": "code",
   "execution_count": 104,
   "id": "167dbe1e-5a23-42c9-9678-a550ae63a657",
   "metadata": {},
   "outputs": [],
   "source": [
    "max_num = max(map(max, s))"
   ]
  },
  {
   "cell_type": "code",
   "execution_count": 108,
   "id": "5cd8dc4f-3b96-43cb-9444-61caaebac773",
   "metadata": {},
   "outputs": [
    {
     "name": "stdout",
     "output_type": "stream",
     "text": [
      "5 7\n"
     ]
    }
   ],
   "source": [
    "for i in range(len(s)):\n",
    "    for j in range(len(s)):\n",
    "        if s[i][j] == max_num:\n",
    "            print(f'{i+1} {j+1}')\n",
    "\n",
    "# s[4][6] == max_num"
   ]
  },
  {
   "cell_type": "code",
   "execution_count": 110,
   "id": "3cbb06c8-1ddd-403c-b4f9-e476bf9503c0",
   "metadata": {},
   "outputs": [
    {
     "data": {
      "text/plain": [
       "9"
      ]
     },
     "execution_count": 110,
     "metadata": {},
     "output_type": "execute_result"
    }
   ],
   "source": [
    "len(s)"
   ]
  },
  {
   "cell_type": "code",
   "execution_count": 124,
   "id": "675972fc-e5bf-4856-b346-e1af08b17f95",
   "metadata": {},
   "outputs": [
    {
     "name": "stdin",
     "output_type": "stream",
     "text": [
      " 90 23 85 34 17 74 25 52 65\n",
      " 10 7 39 42 88 52 14 72 63\n",
      " 87 42 18 78 53 45 18 84 53\n",
      " 34 28 64 85 12 16 75 36 55\n",
      " 21 77 45 35 28 75 90 76 1\n",
      " 25 87 65 15 28 11 37 28 74\n",
      " 65 27 75 41 7 89 78 64 39\n",
      " 47 47 70 45 23 65 3 41 44\n",
      " 87 13 82 38 31 12 29 90 80\n"
     ]
    },
    {
     "name": "stdout",
     "output_type": "stream",
     "text": [
      "90\n",
      "9 8\n"
     ]
    }
   ],
   "source": [
    "s = list(input().split() for _ in range(9))\n",
    "max_num = max(map(max, s))\n",
    "\n",
    "for i in range(len(s)):\n",
    "    for j in range(len(s)):\n",
    "        if s[i][j] == max_num:\n",
    "            mx_i = i+1\n",
    "            mx_j = j+1\n",
    "print(max_num)\n",
    "print(f'{mx_i} {mx_j}')\n",
    "\n",
    "\n",
    "## 반례 찾아내기\n",
    "\n"
   ]
  },
  {
   "cell_type": "markdown",
   "id": "9fe56928-879d-458d-a561-a17bc1f6ee4c",
   "metadata": {},
   "source": [
    "# 2884번 - 알람 시계"
   ]
  },
  {
   "cell_type": "code",
   "execution_count": 1,
   "id": "19fa6450-8388-427d-b1a7-b902c5cc726b",
   "metadata": {
    "collapsed": true,
    "jupyter": {
     "outputs_hidden": true
    },
    "tags": []
   },
   "outputs": [
    {
     "ename": "KeyboardInterrupt",
     "evalue": "Interrupted by user",
     "output_type": "error",
     "traceback": [
      "\u001b[1;31m---------------------------------------------------------------------------\u001b[0m",
      "\u001b[1;31mKeyboardInterrupt\u001b[0m                         Traceback (most recent call last)",
      "Input \u001b[1;32mIn [1]\u001b[0m, in \u001b[0;36m<cell line: 1>\u001b[1;34m()\u001b[0m\n\u001b[1;32m----> 1\u001b[0m h, m \u001b[38;5;241m=\u001b[39m \u001b[38;5;28mmap\u001b[39m(\u001b[38;5;28mint\u001b[39m, \u001b[38;5;28;43minput\u001b[39;49m\u001b[43m(\u001b[49m\u001b[43m)\u001b[49m\u001b[38;5;241m.\u001b[39msplit())\n\u001b[0;32m      3\u001b[0m \u001b[38;5;28;01mif\u001b[39;00m m \u001b[38;5;241m-\u001b[39m \u001b[38;5;241m45\u001b[39m \u001b[38;5;241m<\u001b[39m \u001b[38;5;241m0\u001b[39m:\n\u001b[0;32m      4\u001b[0m     m1 \u001b[38;5;241m=\u001b[39m \u001b[38;5;241m60\u001b[39m \u001b[38;5;241m+\u001b[39m m \u001b[38;5;241m-\u001b[39m \u001b[38;5;241m45\u001b[39m\n",
      "File \u001b[1;32m~\\AppData\\Roaming\\Python\\Python39\\site-packages\\ipykernel\\kernelbase.py:1177\u001b[0m, in \u001b[0;36mKernel.raw_input\u001b[1;34m(self, prompt)\u001b[0m\n\u001b[0;32m   1173\u001b[0m \u001b[38;5;28;01mif\u001b[39;00m \u001b[38;5;129;01mnot\u001b[39;00m \u001b[38;5;28mself\u001b[39m\u001b[38;5;241m.\u001b[39m_allow_stdin:\n\u001b[0;32m   1174\u001b[0m     \u001b[38;5;28;01mraise\u001b[39;00m StdinNotImplementedError(\n\u001b[0;32m   1175\u001b[0m         \u001b[38;5;124m\"\u001b[39m\u001b[38;5;124mraw_input was called, but this frontend does not support input requests.\u001b[39m\u001b[38;5;124m\"\u001b[39m\n\u001b[0;32m   1176\u001b[0m     )\n\u001b[1;32m-> 1177\u001b[0m \u001b[38;5;28;01mreturn\u001b[39;00m \u001b[38;5;28;43mself\u001b[39;49m\u001b[38;5;241;43m.\u001b[39;49m\u001b[43m_input_request\u001b[49m\u001b[43m(\u001b[49m\n\u001b[0;32m   1178\u001b[0m \u001b[43m    \u001b[49m\u001b[38;5;28;43mstr\u001b[39;49m\u001b[43m(\u001b[49m\u001b[43mprompt\u001b[49m\u001b[43m)\u001b[49m\u001b[43m,\u001b[49m\n\u001b[0;32m   1179\u001b[0m \u001b[43m    \u001b[49m\u001b[38;5;28;43mself\u001b[39;49m\u001b[38;5;241;43m.\u001b[39;49m\u001b[43m_parent_ident\u001b[49m\u001b[43m[\u001b[49m\u001b[38;5;124;43m\"\u001b[39;49m\u001b[38;5;124;43mshell\u001b[39;49m\u001b[38;5;124;43m\"\u001b[39;49m\u001b[43m]\u001b[49m\u001b[43m,\u001b[49m\n\u001b[0;32m   1180\u001b[0m \u001b[43m    \u001b[49m\u001b[38;5;28;43mself\u001b[39;49m\u001b[38;5;241;43m.\u001b[39;49m\u001b[43mget_parent\u001b[49m\u001b[43m(\u001b[49m\u001b[38;5;124;43m\"\u001b[39;49m\u001b[38;5;124;43mshell\u001b[39;49m\u001b[38;5;124;43m\"\u001b[39;49m\u001b[43m)\u001b[49m\u001b[43m,\u001b[49m\n\u001b[0;32m   1181\u001b[0m \u001b[43m    \u001b[49m\u001b[43mpassword\u001b[49m\u001b[38;5;241;43m=\u001b[39;49m\u001b[38;5;28;43;01mFalse\u001b[39;49;00m\u001b[43m,\u001b[49m\n\u001b[0;32m   1182\u001b[0m \u001b[43m\u001b[49m\u001b[43m)\u001b[49m\n",
      "File \u001b[1;32m~\\AppData\\Roaming\\Python\\Python39\\site-packages\\ipykernel\\kernelbase.py:1219\u001b[0m, in \u001b[0;36mKernel._input_request\u001b[1;34m(self, prompt, ident, parent, password)\u001b[0m\n\u001b[0;32m   1216\u001b[0m             \u001b[38;5;28;01mbreak\u001b[39;00m\n\u001b[0;32m   1217\u001b[0m \u001b[38;5;28;01mexcept\u001b[39;00m \u001b[38;5;167;01mKeyboardInterrupt\u001b[39;00m:\n\u001b[0;32m   1218\u001b[0m     \u001b[38;5;66;03m# re-raise KeyboardInterrupt, to truncate traceback\u001b[39;00m\n\u001b[1;32m-> 1219\u001b[0m     \u001b[38;5;28;01mraise\u001b[39;00m \u001b[38;5;167;01mKeyboardInterrupt\u001b[39;00m(\u001b[38;5;124m\"\u001b[39m\u001b[38;5;124mInterrupted by user\u001b[39m\u001b[38;5;124m\"\u001b[39m) \u001b[38;5;28;01mfrom\u001b[39;00m \u001b[38;5;28mNone\u001b[39m\n\u001b[0;32m   1220\u001b[0m \u001b[38;5;28;01mexcept\u001b[39;00m \u001b[38;5;167;01mException\u001b[39;00m:\n\u001b[0;32m   1221\u001b[0m     \u001b[38;5;28mself\u001b[39m\u001b[38;5;241m.\u001b[39mlog\u001b[38;5;241m.\u001b[39mwarning(\u001b[38;5;124m\"\u001b[39m\u001b[38;5;124mInvalid Message:\u001b[39m\u001b[38;5;124m\"\u001b[39m, exc_info\u001b[38;5;241m=\u001b[39m\u001b[38;5;28;01mTrue\u001b[39;00m)\n",
      "\u001b[1;31mKeyboardInterrupt\u001b[0m: Interrupted by user"
     ]
    },
    {
     "name": "stdin",
     "output_type": "stream",
     "text": [
      " d\n"
     ]
    }
   ],
   "source": [
    "h, m = map(int, input().split())\n",
    "\n",
    "if m - 45 < 0:\n",
    "    m1 = 60 + m - 45\n",
    "    h1 = h - 1\n",
    "    if h1 < 0:\n",
    "        h1 = 24 + h1\n",
    "\n",
    "else:\n",
    "    m1 = m - 45\n",
    "    h1 = h\n",
    "    if h1 < 0:\n",
    "        h1 = 24 + h1\n",
    "    \n",
    "\n",
    "\n",
    "\n",
    "print( f'{h1} {m1}')\n",
    "\n"
   ]
  },
  {
   "cell_type": "code",
   "execution_count": null,
   "id": "2fafbb2c-369b-46a3-9b93-f7f8f862a2e5",
   "metadata": {},
   "outputs": [],
   "source": []
  },
  {
   "cell_type": "code",
   "execution_count": null,
   "id": "8026d096-3a6c-4621-8110-09e40bc89a1b",
   "metadata": {},
   "outputs": [],
   "source": []
  },
  {
   "cell_type": "code",
   "execution_count": null,
   "id": "634e178a-08d3-4c6f-9e35-cbc23ee36145",
   "metadata": {},
   "outputs": [],
   "source": []
  },
  {
   "cell_type": "markdown",
   "id": "f39843af-426a-480a-ad9e-551c092108c6",
   "metadata": {},
   "source": [
    "# 3052번 - 나머지"
   ]
  },
  {
   "cell_type": "markdown",
   "id": "27541511-c738-44ae-a871-41647f0aa35a",
   "metadata": {},
   "source": [
    "* 파이썬에서 반복문 사용할때 변수값이 필요없을때 (단순 횟수 반복 필요할때) 언더바(_) 사용\n",
    "* set(리스트명) : 리스트 원소 중복값 제외한 값을 set 형식으로 반환\n",
    "    * 리스트 원소 유니크값을 알고싶다면 set -> list -> len 으로 진행해서 확인가능"
   ]
  },
  {
   "cell_type": "code",
   "execution_count": 118,
   "id": "d21887e9-638e-4f89-b581-dbed121f9f4b",
   "metadata": {},
   "outputs": [
    {
     "name": "stdin",
     "output_type": "stream",
     "text": [
      " 1\n",
      " 2\n",
      " 3\n",
      " 4\n",
      " 5\n",
      " 6\n",
      " 7\n",
      " 8\n",
      " 9\n",
      " 10\n"
     ]
    },
    {
     "name": "stdout",
     "output_type": "stream",
     "text": [
      "10\n"
     ]
    }
   ],
   "source": [
    "# 숫자 10개 엔터로 입력받은걸 리스트에 추가하는 방법\n",
    "s_list = [input() for _ in range(10)]\n",
    "# print(s_list)\n",
    "\n",
    "\n",
    "na_list = []\n",
    "for i in range(len(s_list)):\n",
    "    # print(s_list[i])\n",
    "    # print(int(s_list[i])%42)\n",
    "    na_list.append(int(s_list[i])%42)\n",
    "    \n",
    "# print(na_list)\n",
    "print(len(list(set(na_list))))"
   ]
  },
  {
   "cell_type": "raw",
   "id": "d8b49a5b-f9db-48d0-a37b-78253737a74a",
   "metadata": {
    "jupyter": {
     "outputs_hidden": true,
     "source_hidden": true
    },
    "tags": []
   },
   "source": [
    "## 문제풀이 찾아가는 과정\n",
    "\n",
    "s_list = [input() for _ in range(5)]\n",
    "print(s_list)\n",
    "\n",
    "na_list =[]\n",
    "\n",
    "for i in range(len(s_list)):\n",
    "    na_list.append(int(s_list[i]) // 42)\n",
    "\n",
    "print(len(list(set(na_list))))\n",
    "\n",
    "# -----------\n",
    "s_list = [input() for _ in range(5)]\n",
    "print(s_list)\n",
    "\n",
    "\n",
    "# -----------\n",
    "s_list = [input() for _ in range(10)]\n",
    "# print(s_list)\n",
    "\n",
    "na_list = []\n",
    "for i in range(len(s_list)):\n",
    "    # print(s_list[i])\n",
    "    # print(int(s_list[i])%42)\n",
    "    na_list.append(int(s_list[i])%42)\n",
    "    \n",
    "# print(na_list)\n",
    "print(len(list(set(na_list))))\n",
    "\n",
    "\n",
    "# -----------\n",
    "na_list =[]\n",
    "for i in range(len(s_list)):\n",
    "    na_list.append(int(s_list[i]) % 42)\n",
    "print(na_list)"
   ]
  },
  {
   "cell_type": "code",
   "execution_count": null,
   "id": "f4c098c5-ca80-4be8-86fa-93c594be1e17",
   "metadata": {},
   "outputs": [],
   "source": []
  },
  {
   "cell_type": "code",
   "execution_count": null,
   "id": "edb33f46-e964-4dfb-a67f-0f43b5e407b9",
   "metadata": {},
   "outputs": [],
   "source": []
  },
  {
   "cell_type": "code",
   "execution_count": null,
   "id": "00815181-ff85-4716-94cd-d3362175ffb5",
   "metadata": {},
   "outputs": [],
   "source": []
  },
  {
   "cell_type": "markdown",
   "id": "dce63243-d610-45d2-b119-8598a46afb3e",
   "metadata": {},
   "source": [
    "# 1157번 - 단어 공부"
   ]
  },
  {
   "cell_type": "code",
   "execution_count": null,
   "id": "74791886-b7cb-4064-aa1b-5162082f3990",
   "metadata": {},
   "outputs": [],
   "source": [
    "# 출력이 무조건 대문자로 되고 있음\n",
    "# 문자열을 리스트에 담으면 자동으로 한글자씩 나눠서 담겨진다.\n",
    "# 받는 문자를 우선 대문자로 변환시킬것"
   ]
  },
  {
   "cell_type": "code",
   "execution_count": 49,
   "id": "1ceb9d84-07b1-45b6-86e3-d3f83ee1b91c",
   "metadata": {},
   "outputs": [
    {
     "name": "stdin",
     "output_type": "stream",
     "text": [
      " baaaa\n"
     ]
    },
    {
     "name": "stdout",
     "output_type": "stream",
     "text": [
      "['B', 'A', 'A', 'A', 'A']\n",
      "['A', 'B']\n",
      "A\n"
     ]
    }
   ],
   "source": [
    "# 단어 입력받아 대문자 알파벳으로 변환하여 리스트 담기\n",
    "word = list(input().upper())\n",
    "print(word)\n",
    "\n",
    "# 해당 리스트의 유일한 알파벳이 어떤것인지 추출하여 리스트에 담기\n",
    "uni = list(set(word))\n",
    "print(uni)\n",
    "\n",
    "# 유일한 알파벳이 원래 단어에 몇개 들어있는지 개수 확인\n",
    "# 파이썬 리스트의 특정 요소 개수 구하기 -> \"\"리스트명.count(특정 요소)\"\" 사용\n",
    "cnt = []\n",
    "for i in uni:\n",
    "    # print(word.count(i))\n",
    "    cnt.append(word.count(i))\n",
    "    \n",
    "# 유일 알파벳 개수 추출한 리스트의 최댓값 확인\n",
    "max(cnt)\n",
    "\n",
    "# 유일한 알파벳 최댓값이 2개 이상일때 '?' 출력\n",
    "if cnt.count(max(cnt)) >= 2:\n",
    "    print('?')\n",
    "# 아니라면 cnt리스트에서 최댓값이 위치한 인덱스 번호 추출하여 uni 리스트에 적용하여 문자 추출\n",
    "else:\n",
    "    print(uni[cnt.index(max(cnt))])\n"
   ]
  },
  {
   "cell_type": "code",
   "execution_count": null,
   "id": "d4285eaa-2927-4601-afbe-1d6be136358a",
   "metadata": {},
   "outputs": [],
   "source": []
  },
  {
   "cell_type": "code",
   "execution_count": null,
   "id": "d3a2a02b-e8a8-429d-b2eb-6a26c875ad84",
   "metadata": {},
   "outputs": [],
   "source": []
  },
  {
   "cell_type": "code",
   "execution_count": null,
   "id": "acd5025a-fc75-416b-b40e-8a8e1394b8a1",
   "metadata": {},
   "outputs": [],
   "source": []
  },
  {
   "cell_type": "markdown",
   "id": "49c7c445-e5d2-481d-8976-a9a63485930a",
   "metadata": {
    "tags": []
   },
   "source": [
    "# 1546번 - 평균"
   ]
  },
  {
   "cell_type": "code",
   "execution_count": 79,
   "id": "63a401fe-2182-4b21-a30d-9e9f60e6e6e7",
   "metadata": {},
   "outputs": [
    {
     "name": "stdin",
     "output_type": "stream",
     "text": [
      " 3\n",
      " 40 80 60\n"
     ]
    },
    {
     "name": "stdout",
     "output_type": "stream",
     "text": [
      "75.0\n"
     ]
    }
   ],
   "source": [
    "# 과목의 수 n개\n",
    "# 과목별 점수에 입력받으려는게 아니라 for문 반복에 range 사용하기 위해 부여한 것인가?\n",
    "# 과목별 점수/최댓값*100을 반복해야 하니까?\n",
    "n = int(input())\n",
    "\n",
    "# 현재 성적\n",
    "score = list(map(int, input().split()))\n",
    "\n",
    "# 새로운 평균 구하기\n",
    "# 기존 점수의 최댓값 = m\n",
    "m = max(score)\n",
    "\n",
    "# 나머지 점수/최댓값*100 을 해당 과목의 점수로 치환\n",
    "for i in range(0, n):\n",
    "    score[i] = score[i] / m * 100\n",
    "\n",
    "# 새로운 평균\n",
    "avg = sum(score) / n\n",
    "\n",
    "print(avg)"
   ]
  },
  {
   "cell_type": "code",
   "execution_count": null,
   "id": "21446006-6320-4d1e-a0b1-520b563d8e3c",
   "metadata": {},
   "outputs": [],
   "source": []
  }
 ],
 "metadata": {
  "kernelspec": {
   "display_name": "Python 3 (ipykernel)",
   "language": "python",
   "name": "python3"
  },
  "language_info": {
   "codemirror_mode": {
    "name": "ipython",
    "version": 3
   },
   "file_extension": ".py",
   "mimetype": "text/x-python",
   "name": "python",
   "nbconvert_exporter": "python",
   "pygments_lexer": "ipython3",
   "version": "3.9.13"
  },
  "toc-showmarkdowntxt": false
 },
 "nbformat": 4,
 "nbformat_minor": 5
}
