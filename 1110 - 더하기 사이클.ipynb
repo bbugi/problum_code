{
 "cells": [
  {
   "cell_type": "code",
   "execution_count": 30,
   "id": "2f04411b",
   "metadata": {},
   "outputs": [
    {
     "name": "stdout",
     "output_type": "stream",
     "text": [
      "26\n"
     ]
    },
    {
     "data": {
      "text/plain": [
       "[2, 6]"
      ]
     },
     "execution_count": 30,
     "metadata": {},
     "output_type": "execute_result"
    }
   ],
   "source": [
    "n = list(map(int, input().zfill(2)))\n",
    "n"
   ]
  },
  {
   "cell_type": "code",
   "execution_count": 31,
   "id": "40d700b4",
   "metadata": {},
   "outputs": [
    {
     "data": {
      "text/plain": [
       "[0, 8]"
      ]
     },
     "execution_count": 31,
     "metadata": {},
     "output_type": "execute_result"
    }
   ],
   "source": [
    "m = list(map(int, str(sum(n)).zfill(2)))\n",
    "m"
   ]
  },
  {
   "cell_type": "code",
   "execution_count": 37,
   "id": "fa18505e",
   "metadata": {},
   "outputs": [
    {
     "data": {
      "text/plain": [
       "68"
      ]
     },
     "execution_count": 37,
     "metadata": {},
     "output_type": "execute_result"
    }
   ],
   "source": [
    "int(str(n[1]) + str(m[1]))"
   ]
  },
  {
   "cell_type": "code",
   "execution_count": 33,
   "id": "a815c477",
   "metadata": {},
   "outputs": [
    {
     "data": {
      "text/plain": [
       "[6, 8]"
      ]
     },
     "execution_count": 33,
     "metadata": {},
     "output_type": "execute_result"
    }
   ],
   "source": [
    "k = list(map(int, str(n[1]) + str(m[1])))\n",
    "k"
   ]
  },
  {
   "cell_type": "code",
   "execution_count": null,
   "id": "a99ac8c7",
   "metadata": {},
   "outputs": [],
   "source": []
  },
  {
   "cell_type": "code",
   "execution_count": 36,
   "id": "297c98c4",
   "metadata": {},
   "outputs": [
    {
     "data": {
      "text/plain": [
       "[1, 4]"
      ]
     },
     "execution_count": 36,
     "metadata": {},
     "output_type": "execute_result"
    }
   ],
   "source": [
    "k2 = list(map(int, str(sum(k)).zfill(2)))\n",
    "k2"
   ]
  },
  {
   "cell_type": "code",
   "execution_count": 45,
   "id": "613273d8",
   "metadata": {},
   "outputs": [],
   "source": [
    "def sum_cycle(n):\n",
    "    cycle_num = 0\n",
    "    z = 0\n",
    "    while True:\n",
    "        if z == 0:\n",
    "            x = list(map(int, str(n).zfill(2)))\n",
    "            print(x)\n",
    "            y = list(map(int, str(sum(x)).zfill(2)))\n",
    "            print(y)\n",
    "            z = int(str(x[1]) + str(y[1])) # 새로운 n이 되어야 함\n",
    "            cycle_num += 1\n",
    "            print(cycle_num)\n",
    "            n = z\n",
    "            print(n)\n",
    "            break\n",
    "#         elif z != 0:\n",
    "#             x = list(map(int, str(z).zfill(2)))\n",
    "#             y = list(map(int, str(sum(x)).zfill(2)))\n",
    "#             cycle_num += 1\n",
    "#             n = z\n",
    "#             continue\n",
    "#         elif n == z:\n",
    "#             return cycle_num\n",
    "#             break\n",
    "            "
   ]
  },
  {
   "cell_type": "code",
   "execution_count": 46,
   "id": "1309233f",
   "metadata": {},
   "outputs": [
    {
     "name": "stdout",
     "output_type": "stream",
     "text": [
      "[2, 6]\n",
      "[0, 8]\n",
      "1\n",
      "68\n"
     ]
    }
   ],
   "source": [
    "n = 26\n",
    "sum_cycle(n)"
   ]
  },
  {
   "cell_type": "code",
   "execution_count": null,
   "id": "2aab7787",
   "metadata": {},
   "outputs": [],
   "source": []
  }
 ],
 "metadata": {
  "kernelspec": {
   "display_name": "Python 3 (ipykernel)",
   "language": "python",
   "name": "python3"
  },
  "language_info": {
   "codemirror_mode": {
    "name": "ipython",
    "version": 3
   },
   "file_extension": ".py",
   "mimetype": "text/x-python",
   "name": "python",
   "nbconvert_exporter": "python",
   "pygments_lexer": "ipython3",
   "version": "3.8.15"
  }
 },
 "nbformat": 4,
 "nbformat_minor": 5
}
