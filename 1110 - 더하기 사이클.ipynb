{
 "cells": [
  {
   "cell_type": "code",
   "execution_count": 135,
   "id": "2f04411b",
   "metadata": {},
   "outputs": [],
   "source": [
    "# n = list(map(int, input().zfill(2)))\n",
    "# n"
   ]
  },
  {
   "cell_type": "code",
   "execution_count": 136,
   "id": "40d700b4",
   "metadata": {},
   "outputs": [],
   "source": [
    "# m = list(map(int, str(sum(n)).zfill(2)))\n",
    "# m"
   ]
  },
  {
   "cell_type": "code",
   "execution_count": 137,
   "id": "fa18505e",
   "metadata": {},
   "outputs": [],
   "source": [
    "# int(str(n[1]) + str(m[1]))"
   ]
  },
  {
   "cell_type": "code",
   "execution_count": 138,
   "id": "a815c477",
   "metadata": {},
   "outputs": [
    {
     "data": {
      "text/plain": [
       "[0, 0]"
      ]
     },
     "execution_count": 138,
     "metadata": {},
     "output_type": "execute_result"
    }
   ],
   "source": [
    "# k = list(map(int, str(n[1]) + str(m[1])))\n",
    "k"
   ]
  },
  {
   "cell_type": "code",
   "execution_count": null,
   "id": "a99ac8c7",
   "metadata": {},
   "outputs": [],
   "source": []
  },
  {
   "cell_type": "code",
   "execution_count": 139,
   "id": "297c98c4",
   "metadata": {},
   "outputs": [],
   "source": [
    "# k2 = list(map(int, str(sum(k)).zfill(2)))\n",
    "# k2"
   ]
  },
  {
   "cell_type": "code",
   "execution_count": 140,
   "id": "613273d8",
   "metadata": {},
   "outputs": [],
   "source": [
    "def sum_cycle(n):\n",
    "    cycle_num = 0\n",
    "    ans = n\n",
    "    z = 0\n",
    "    while n < 100:\n",
    "        if z == 0:\n",
    "            x = list(map(int, str(n).zfill(2)))\n",
    "            # print(x)\n",
    "            y = list(map(int, str(sum(x)).zfill(2)))\n",
    "            # print(y)\n",
    "            z = int(str(x[1]) + str(y[1])) # 새로운 n이 되어야 함\n",
    "            cycle_num += 1\n",
    "            # print(cycle_num)\n",
    "            # print(z)\n",
    "            continue\n",
    "        elif z == ans:\n",
    "            return cycle_num\n",
    "            # print(z)\n",
    "            break\n",
    "        else:\n",
    "            x = list(map(int, str(z).zfill(2)))\n",
    "            y = list(map(int, str(sum(x)).zfill(2)))\n",
    "            z = int(str(x[1]) + str(y[1]))\n",
    "            cycle_num += 1\n",
    "            continue\n",
    "\n",
    "#         elif z != 0:\n",
    "#             x = list(map(int, str(z).zfill(2)))\n",
    "#             y = list(map(int, str(sum(x)).zfill(2)))\n",
    "#             cycle_num += 1\n",
    "#             n = z\n",
    "#             continue\n",
    "#         elif n == z:\n",
    "#             return cycle_num\n",
    "#             break\n",
    "\n",
    "           "
   ]
  },
  {
   "cell_type": "code",
   "execution_count": 141,
   "id": "1309233f",
   "metadata": {},
   "outputs": [
    {
     "name": "stdout",
     "output_type": "stream",
     "text": [
      "20\n"
     ]
    }
   ],
   "source": [
    "n = int(input())\n",
    "print(sum_cycle(n))\n"
   ]
  },
  {
   "cell_type": "code",
   "execution_count": null,
   "id": "2aab7787",
   "metadata": {},
   "outputs": [],
   "source": []
  }
 ],
 "metadata": {
  "kernelspec": {
   "display_name": "base",
   "language": "python",
   "name": "python3"
  },
  "language_info": {
   "codemirror_mode": {
    "name": "ipython",
    "version": 3
   },
   "file_extension": ".py",
   "mimetype": "text/x-python",
   "name": "python",
   "nbconvert_exporter": "python",
   "pygments_lexer": "ipython3",
   "version": "3.7.6"
  },
  "vscode": {
   "interpreter": {
    "hash": "1cca9558bc5ad879ec93cc030b157d75f18267527c60932cecaace349eef54dd"
   }
  }
 },
 "nbformat": 4,
 "nbformat_minor": 5
}
