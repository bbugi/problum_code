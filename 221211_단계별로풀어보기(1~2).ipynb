{
 "cells": [
  {
   "cell_type": "markdown",
   "id": "09585bad-494c-4e16-ac57-bcb86472d67f",
   "metadata": {
    "tags": []
   },
   "source": [
    "# 1. 입출력과 사칙연산"
   ]
  },
  {
   "cell_type": "code",
   "execution_count": null,
   "id": "48026538-07b1-4321-ad95-560b148fef03",
   "metadata": {
    "tags": []
   },
   "outputs": [],
   "source": [
    "## 1001. A - B"
   ]
  },
  {
   "cell_type": "code",
   "execution_count": 1,
   "id": "c6ba5abf-83cc-4030-8366-692d93283b03",
   "metadata": {},
   "outputs": [
    {
     "name": "stdin",
     "output_type": "stream",
     "text": [
      " 3 2\n"
     ]
    },
    {
     "name": "stdout",
     "output_type": "stream",
     "text": [
      "1\n"
     ]
    }
   ],
   "source": [
    "a, b = map(int, input().split(' '))\n",
    "print(a - b)"
   ]
  },
  {
   "cell_type": "code",
   "execution_count": null,
   "id": "e242dbe4-f244-4b52-bff3-cf38b032588c",
   "metadata": {},
   "outputs": [],
   "source": [
    "## 10998. A x B"
   ]
  },
  {
   "cell_type": "code",
   "execution_count": 2,
   "id": "63bd498a-9210-4542-a344-39862f97b206",
   "metadata": {
    "tags": []
   },
   "outputs": [
    {
     "name": "stdin",
     "output_type": "stream",
     "text": [
      " 3 4\n"
     ]
    },
    {
     "name": "stdout",
     "output_type": "stream",
     "text": [
      "12\n"
     ]
    }
   ],
   "source": [
    "a, b = map(int, input().split(' '))\n",
    "print(a * b)"
   ]
  },
  {
   "cell_type": "code",
   "execution_count": null,
   "id": "e5f26e85-fb93-4360-8c02-38166b001ae7",
   "metadata": {},
   "outputs": [],
   "source": [
    "## 1008. A / B"
   ]
  },
  {
   "cell_type": "code",
   "execution_count": 4,
   "id": "5dfb94d1-d9b9-40de-8b51-e4d0280312af",
   "metadata": {},
   "outputs": [
    {
     "name": "stdin",
     "output_type": "stream",
     "text": [
      " 4 5\n"
     ]
    },
    {
     "name": "stdout",
     "output_type": "stream",
     "text": [
      "0.8\n"
     ]
    }
   ],
   "source": [
    "a, b = map(int, input().split(' '))\n",
    "print(a / b)"
   ]
  },
  {
   "cell_type": "code",
   "execution_count": null,
   "id": "6c9d27e2-4a6f-4f8d-995e-31891279061f",
   "metadata": {},
   "outputs": [],
   "source": [
    "## 10869. 사칙연산"
   ]
  },
  {
   "cell_type": "code",
   "execution_count": 5,
   "id": "97c9b172-f885-42d3-8f3c-2608ff4b70c9",
   "metadata": {},
   "outputs": [
    {
     "name": "stdin",
     "output_type": "stream",
     "text": [
      " 7 3\n"
     ]
    },
    {
     "name": "stdout",
     "output_type": "stream",
     "text": [
      "10\n",
      "4\n",
      "21\n",
      "2\n",
      "1\n"
     ]
    }
   ],
   "source": [
    "a, b = map(int, input().split(' '))\n",
    "print(a+b)\n",
    "print(a-b)\n",
    "print(a*b)\n",
    "print(a//b)\n",
    "print(a%b)"
   ]
  },
  {
   "cell_type": "code",
   "execution_count": null,
   "id": "bc5b44bb-42e3-4786-a116-91f660b5dedd",
   "metadata": {},
   "outputs": [],
   "source": [
    "## 10926. ??!"
   ]
  },
  {
   "cell_type": "code",
   "execution_count": 6,
   "id": "516f6478-cf4f-4ef5-8fe8-a899409aa442",
   "metadata": {},
   "outputs": [
    {
     "name": "stdin",
     "output_type": "stream",
     "text": [
      " junas\n"
     ]
    },
    {
     "name": "stdout",
     "output_type": "stream",
     "text": [
      "junas??!\n"
     ]
    }
   ],
   "source": [
    "id = input().lower()\n",
    "print(f'{id}??!')"
   ]
  },
  {
   "cell_type": "code",
   "execution_count": null,
   "id": "d3f57ecb-c0cf-4ebd-b581-db71c354df92",
   "metadata": {},
   "outputs": [],
   "source": [
    "## 18108. 1998년생인 내가 태국에서는 2541년생?!"
   ]
  },
  {
   "cell_type": "code",
   "execution_count": 11,
   "id": "8254a9bb-d110-401b-8500-621edaca8604",
   "metadata": {},
   "outputs": [
    {
     "name": "stdin",
     "output_type": "stream",
     "text": [
      " 2541\n"
     ]
    },
    {
     "name": "stdout",
     "output_type": "stream",
     "text": [
      "1998\n"
     ]
    }
   ],
   "source": [
    "b_year = int(input())\n",
    "s_year = b_year-543\n",
    "print(s_year)"
   ]
  },
  {
   "cell_type": "code",
   "execution_count": null,
   "id": "2de46b76-c263-443d-b848-2eec34191da8",
   "metadata": {},
   "outputs": [],
   "source": [
    "## 3003. 킹, 퀸, 룩, 비숍, 나이트, 폰"
   ]
  },
  {
   "cell_type": "code",
   "execution_count": 29,
   "id": "47f412fb-8450-4488-8900-99c98c9d25d7",
   "metadata": {},
   "outputs": [
    {
     "name": "stdin",
     "output_type": "stream",
     "text": [
      " 2 1 2 1 2 1\n"
     ]
    },
    {
     "name": "stdout",
     "output_type": "stream",
     "text": [
      "-1 0 0 1 0 7\n"
     ]
    }
   ],
   "source": [
    "ans = [1, 1, 2, 2, 2, 8]\n",
    "# len(ans)\n",
    "\n",
    "piece = list(map(int, input().split(' ')))\n",
    "# print(piece)\n",
    "\n",
    "num = []\n",
    "for i in range(len(ans)):\n",
    "    num.append(ans[i]-piece[i])\n",
    "# print(num)\n",
    "print(f'{num[0]} {num[1]} {num[2]} {num[3]} {num[4]} {num[5]}')"
   ]
  },
  {
   "cell_type": "code",
   "execution_count": null,
   "id": "f6b70e7b-deb6-4300-bc99-151d71847291",
   "metadata": {},
   "outputs": [],
   "source": [
    "## 10430. 나머지"
   ]
  },
  {
   "cell_type": "code",
   "execution_count": 36,
   "id": "fae27358-5938-4147-b50d-92ce0675e96f",
   "metadata": {},
   "outputs": [
    {
     "name": "stdin",
     "output_type": "stream",
     "text": [
      " 5 8 4\n"
     ]
    },
    {
     "name": "stdout",
     "output_type": "stream",
     "text": [
      "1\n",
      "1\n",
      "0\n",
      "0\n"
     ]
    }
   ],
   "source": [
    "A,B,C = map(int, input().split())\n",
    "\n",
    "# print(a, b, c)\n",
    "\n",
    "print((A+B)%C)\n",
    "print(((A%C) + (B%C))%C)\n",
    "print((A*B)%C)\n",
    "print(((A%C) * (B%C))%C)"
   ]
  },
  {
   "cell_type": "code",
   "execution_count": 37,
   "id": "db160c78-e363-4c77-9589-9ba5abe3aaa8",
   "metadata": {},
   "outputs": [],
   "source": [
    "## 2588. 곱셉"
   ]
  },
  {
   "cell_type": "code",
   "execution_count": 10,
   "id": "69164af0-f9f6-4304-8696-4676a22835ec",
   "metadata": {},
   "outputs": [
    {
     "name": "stdin",
     "output_type": "stream",
     "text": [
      " 472\n",
      " 385\n"
     ]
    },
    {
     "name": "stdout",
     "output_type": "stream",
     "text": [
      "2360\n",
      "3776\n",
      "1416\n",
      "181720\n"
     ]
    }
   ],
   "source": [
    "num1 = int(input())\n",
    "num2 = int(input())\n",
    "num22 = list(map(int, str(num2)))\n",
    "print(num1 * num22[2])\n",
    "print(num1 * num22[1])\n",
    "print(num1 * num22[0])\n",
    "print(num1 * num2)"
   ]
  },
  {
   "cell_type": "code",
   "execution_count": 9,
   "id": "2e02ccac-e4ba-41c9-a6b9-dea261ee16c9",
   "metadata": {},
   "outputs": [
    {
     "data": {
      "text/plain": [
       "[3, 8, 5]"
      ]
     },
     "execution_count": 9,
     "metadata": {},
     "output_type": "execute_result"
    }
   ],
   "source": [
    "list(map(int, str(num2)))"
   ]
  },
  {
   "cell_type": "code",
   "execution_count": null,
   "id": "0b3fdcf6-c5d4-46c7-8074-6d1652373bca",
   "metadata": {},
   "outputs": [],
   "source": [
    "## 10171. 고양이"
   ]
  },
  {
   "cell_type": "code",
   "execution_count": 16,
   "id": "59d15b88-a379-481f-9059-95c6bb7f2c39",
   "metadata": {},
   "outputs": [
    {
     "name": "stdout",
     "output_type": "stream",
     "text": [
      "\\    /\\\n",
      " )  ( ')\n",
      "(  /  )\n",
      " \\(__)|\n"
     ]
    }
   ],
   "source": [
    "print('''\\\\    /\\\\\n",
    " )  ( \\')\n",
    "(  /  )\n",
    " \\\\(__)|''')"
   ]
  },
  {
   "cell_type": "code",
   "execution_count": null,
   "id": "0160ff6e-644b-46d9-965a-5d25b21eef62",
   "metadata": {},
   "outputs": [],
   "source": [
    "## 10172. 개"
   ]
  },
  {
   "cell_type": "code",
   "execution_count": 17,
   "id": "9d40b1c1-61dd-4bc0-93a8-e74c040b415e",
   "metadata": {},
   "outputs": [
    {
     "name": "stdout",
     "output_type": "stream",
     "text": [
      "|\\_/|\n",
      "|q p|   /}\n",
      "( 0 )\"\"\"\\\n",
      "|\"^\"`    |\n",
      "||_/=\\\\__|\n"
     ]
    }
   ],
   "source": [
    "print('''|\\\\_/|\n",
    "|q p|   /}\n",
    "( 0 )\\\"\\\"\\\"\\\\\n",
    "|\\\"^\\\"`    |\n",
    "||_/=\\\\\\\\__|''')"
   ]
  },
  {
   "cell_type": "code",
   "execution_count": null,
   "id": "af133318-f48c-4fdb-a340-ed6d90d30638",
   "metadata": {},
   "outputs": [],
   "source": []
  },
  {
   "cell_type": "markdown",
   "id": "ebd320ad-7dbb-447c-a439-e52e8214ef67",
   "metadata": {},
   "source": [
    "# 2. 조건문"
   ]
  },
  {
   "cell_type": "code",
   "execution_count": null,
   "id": "389f4647-a59b-4886-aba9-9f9bcc6f697e",
   "metadata": {},
   "outputs": [],
   "source": [
    "## 1330. 두 수 비교하기"
   ]
  },
  {
   "cell_type": "code",
   "execution_count": 21,
   "id": "6b5a407f-0fc0-403f-9721-debf7991c09f",
   "metadata": {},
   "outputs": [
    {
     "name": "stdin",
     "output_type": "stream",
     "text": [
      " 5 5\n"
     ]
    },
    {
     "name": "stdout",
     "output_type": "stream",
     "text": [
      "==\n"
     ]
    }
   ],
   "source": [
    "a, b = map(int, input().split())\n",
    "# print(a, b)\n",
    "if a > b:\n",
    "    print('>')\n",
    "elif a < b:\n",
    "    print('<')\n",
    "else:\n",
    "    print('==')"
   ]
  },
  {
   "cell_type": "code",
   "execution_count": null,
   "id": "0e646c00-c299-43ac-a4a2-f0e6be730b4d",
   "metadata": {},
   "outputs": [],
   "source": [
    "## 2753. 윤년"
   ]
  },
  {
   "cell_type": "code",
   "execution_count": 29,
   "id": "0c170489-76ee-4afc-92a4-224ded0f1269",
   "metadata": {},
   "outputs": [
    {
     "name": "stdin",
     "output_type": "stream",
     "text": [
      " 1900\n"
     ]
    },
    {
     "name": "stdout",
     "output_type": "stream",
     "text": [
      "0\n"
     ]
    }
   ],
   "source": [
    "year = int(input())\n",
    "\n",
    "if year % 400 == 0:\n",
    "    print('1')\n",
    "elif (year % 100 != 0) & (year % 4 == 0):\n",
    "    print('1')\n",
    "else:\n",
    "    print('0')"
   ]
  },
  {
   "cell_type": "code",
   "execution_count": null,
   "id": "5bd88c77-46f3-462f-aa80-e3dcf3cda66b",
   "metadata": {},
   "outputs": [],
   "source": [
    "## 사분면 고르기"
   ]
  },
  {
   "cell_type": "code",
   "execution_count": 32,
   "id": "56373a1a-4b3a-463b-a856-1c47f1c214a5",
   "metadata": {},
   "outputs": [
    {
     "name": "stdin",
     "output_type": "stream",
     "text": [
      " 9\n",
      " -13\n"
     ]
    },
    {
     "name": "stdout",
     "output_type": "stream",
     "text": [
      "4\n"
     ]
    }
   ],
   "source": [
    "x = int(input())\n",
    "y = int(input())\n",
    "\n",
    "if (x > 0) & (y > 0):\n",
    "    print(1)\n",
    "elif (x < 0) & (y > 0):\n",
    "    print(2)\n",
    "elif (x < 0) & (y < 0):\n",
    "    print(3)\n",
    "else:\n",
    "    print(4)"
   ]
  },
  {
   "cell_type": "code",
   "execution_count": null,
   "id": "4f8cfb75-53cf-4493-9fd8-8f2265a400ad",
   "metadata": {},
   "outputs": [],
   "source": [
    "## 2480. 주사위 세개"
   ]
  },
  {
   "cell_type": "code",
   "execution_count": 6,
   "id": "900eb5a8-359b-4ee9-8970-769e94e077b9",
   "metadata": {},
   "outputs": [
    {
     "name": "stdin",
     "output_type": "stream",
     "text": [
      " 3 3 3\n"
     ]
    },
    {
     "name": "stdout",
     "output_type": "stream",
     "text": [
      "13000\n"
     ]
    }
   ],
   "source": [
    "nums = list(map(int, input().split()))\n",
    "\n",
    "if nums.count(nums[0]) == 3:\n",
    "    print(10000 + (nums[0]*1000))\n",
    "elif nums.count(nums[0]) ==2:\n",
    "    print(1000 + (nums[0] * 100))\n",
    "elif nums.count(nums[1]) ==2:\n",
    "    print(1000 + (nums[1] * 100))    \n",
    "else:\n",
    "    print(max(nums)*100)\n",
    "        \n",
    "\n",
    "# if num[0] == num[1] == num[2]:\n",
    "#     print(10000 + (num[0]*1000))\n",
    "# elif num[0] != num[1] != num[2]:\n",
    "#     print(max(num)*100)\n",
    "# else:\n",
    "    "
   ]
  },
  {
   "cell_type": "markdown",
   "id": "3fd85637-03ca-432e-9b6f-5fb2b378ac94",
   "metadata": {},
   "source": [
    "# 3. 반복문"
   ]
  },
  {
   "cell_type": "code",
   "execution_count": null,
   "id": "26bd64cf-b056-413d-a003-809baa7cf822",
   "metadata": {},
   "outputs": [],
   "source": [
    "## 1110. 더하기 사이클"
   ]
  },
  {
   "cell_type": "code",
   "execution_count": 14,
   "id": "8400a8fe-22df-47da-87ab-197748d980ff",
   "metadata": {},
   "outputs": [
    {
     "name": "stdin",
     "output_type": "stream",
     "text": [
      " 32\n"
     ]
    },
    {
     "name": "stdout",
     "output_type": "stream",
     "text": [
      "[3, 2]\n",
      "5\n"
     ]
    }
   ],
   "source": [
    "n = list(map(int,input()))\n",
    "print(n)\n",
    "sum = 0\n",
    "for i in range(len(n)):\n",
    "    sum += n[i]\n",
    "    n[-1]\n",
    "print(sum)"
   ]
  },
  {
   "cell_type": "code",
   "execution_count": null,
   "id": "e8121af0-468f-48cf-8759-a46ddee6cd9b",
   "metadata": {},
   "outputs": [],
   "source": []
  }
 ],
 "metadata": {
  "kernelspec": {
   "display_name": "Python 3 (ipykernel)",
   "language": "python",
   "name": "python3"
  },
  "language_info": {
   "codemirror_mode": {
    "name": "ipython",
    "version": 3
   },
   "file_extension": ".py",
   "mimetype": "text/x-python",
   "name": "python",
   "nbconvert_exporter": "python",
   "pygments_lexer": "ipython3",
   "version": "3.9.13"
  }
 },
 "nbformat": 4,
 "nbformat_minor": 5
}
