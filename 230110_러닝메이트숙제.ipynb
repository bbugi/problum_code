{
 "cells": [
  {
   "cell_type": "markdown",
   "id": "aef39ef1",
   "metadata": {},
   "source": [
    "# 2587 - 대표값2"
   ]
  },
  {
   "cell_type": "code",
   "execution_count": 10,
   "id": "b21ac302",
   "metadata": {},
   "outputs": [],
   "source": [
    "# 풀이\n",
    "# 첫째줄에는 평균 출력, 둘째줄에는 중앙값 출력\n",
    "# 무조건 5개의 숫자를 입력받는다"
   ]
  },
  {
   "cell_type": "code",
   "execution_count": 12,
   "id": "9b193ef7",
   "metadata": {},
   "outputs": [
    {
     "name": "stdout",
     "output_type": "stream",
     "text": [
      "10\n",
      "40\n",
      "30\n",
      "60\n",
      "30\n",
      "34\n",
      "30\n"
     ]
    }
   ],
   "source": [
    "nums = []\n",
    "for i in range(5):\n",
    "    n = int(input())\n",
    "    nums.append(n)\n",
    "    nums.sort()\n",
    "\n",
    "# 평균값\n",
    "print(int(sum(nums)/len(nums)))\n",
    "\n",
    "# 중앙값\n",
    "print(nums[2])"
   ]
  },
  {
   "cell_type": "markdown",
   "id": "b4feb8ae",
   "metadata": {},
   "source": [
    "# 2750 - 수 정렬하기"
   ]
  },
  {
   "cell_type": "code",
   "execution_count": null,
   "id": "210decc5",
   "metadata": {},
   "outputs": [],
   "source": [
    "# 풀이"
   ]
  },
  {
   "cell_type": "code",
   "execution_count": 1,
   "id": "11bbac4e",
   "metadata": {},
   "outputs": [
    {
     "name": "stdout",
     "output_type": "stream",
     "text": [
      "5\n",
      "5\n"
     ]
    }
   ],
   "source": [
    "n = int(input())\n",
    "print(n)"
   ]
  },
  {
   "cell_type": "code",
   "execution_count": 9,
   "id": "f6693b26",
   "metadata": {},
   "outputs": [
    {
     "name": "stdout",
     "output_type": "stream",
     "text": [
      "5\n",
      "5\n",
      "2\n",
      "3\n",
      "4\n",
      "1\n",
      "1\n",
      "2\n",
      "3\n",
      "4\n",
      "5\n"
     ]
    }
   ],
   "source": [
    "n = int(input())\n",
    "num = []\n",
    "for _ in range(n):\n",
    "    k = int(input())\n",
    "    num.append(k)\n",
    "    num.sort()\n",
    "for i in range(len(num)):\n",
    "    print(num[i])"
   ]
  },
  {
   "cell_type": "markdown",
   "id": "e5624ebf",
   "metadata": {},
   "source": [
    "# 2751 - 수 정렬하기2"
   ]
  },
  {
   "cell_type": "code",
   "execution_count": null,
   "id": "03b911d1",
   "metadata": {},
   "outputs": [],
   "source": [
    "# 수 정렬하기 문제와 동일한 문제인데\n",
    "# 똑같은 풀이법으로 진행시 시간초과 발생"
   ]
  },
  {
   "cell_type": "code",
   "execution_count": 13,
   "id": "3f80a8fb",
   "metadata": {},
   "outputs": [
    {
     "name": "stdout",
     "output_type": "stream",
     "text": [
      "5\n",
      "5\n",
      "4\n",
      "3\n",
      "2\n",
      "1\n",
      "1\n",
      "2\n",
      "3\n",
      "4\n",
      "5\n"
     ]
    }
   ],
   "source": [
    "# 풀이 1 - 제출시 시간초과 발생\n",
    "n = int(input())\n",
    "nums = []\n",
    "for i in range(n):\n",
    "    num = int(input())\n",
    "    nums.append(num)\n",
    "    nums.sort()\n",
    "for i in range(len(nums)):\n",
    "    print(nums[i])"
   ]
  },
  {
   "cell_type": "code",
   "execution_count": null,
   "id": "352bb9c5",
   "metadata": {},
   "outputs": [],
   "source": [
    "# deque를 통해 풀어볼까?\n",
    "# sort를 deque를 통해 바로 하는 방법이 있는지?\n",
    "# 아니면 list로 받아서 그걸 deque로 형변환 하여 사용할지?"
   ]
  },
  {
   "cell_type": "code",
   "execution_count": null,
   "id": "72da7d0a",
   "metadata": {},
   "outputs": [],
   "source": [
    "# 풀이 2 - 이것도 시간초과 뜸\n",
    "from collections import deque\n",
    "\n",
    "n=int(input())\n",
    "\n",
    "# 우선 리스트로 정렬\n",
    "nums = []\n",
    "for i in range(n):\n",
    "    num = int(input())\n",
    "    nums.append(num)\n",
    "    nums.sort()\n",
    "    \n",
    "# 출력하는걸 deque로 사용? 이게 속도 줄이는 데에 효과가 있나?\n",
    "dq = deque(nums)\n",
    "for i in range(n):\n",
    "    print(dq.popleft())"
   ]
  },
  {
   "cell_type": "code",
   "execution_count": 26,
   "id": "d5d47d93",
   "metadata": {},
   "outputs": [
    {
     "name": "stdout",
     "output_type": "stream",
     "text": [
      "5\n",
      "5\n",
      "4\n",
      "3\n",
      "2\n",
      "1\n",
      "[1, 2, 3, 4, 5]\n"
     ]
    }
   ],
   "source": [
    "from collections import deque\n",
    "\n",
    "n=int(input())\n",
    "nums = []\n",
    "for i in range(n):\n",
    "    num = int(input())\n",
    "    nums.append(num)\n",
    "    nums.sort()\n",
    "# print(nums)"
   ]
  },
  {
   "cell_type": "code",
   "execution_count": 24,
   "id": "86ce097c",
   "metadata": {},
   "outputs": [
    {
     "data": {
      "text/plain": [
       "1"
      ]
     },
     "execution_count": 24,
     "metadata": {},
     "output_type": "execute_result"
    }
   ],
   "source": [
    "dq = deque(nums)\n",
    "dq.popleft()"
   ]
  },
  {
   "cell_type": "code",
   "execution_count": 27,
   "id": "060def98",
   "metadata": {},
   "outputs": [],
   "source": [
    "dq = deque(nums)"
   ]
  },
  {
   "cell_type": "code",
   "execution_count": 28,
   "id": "96d5244a",
   "metadata": {},
   "outputs": [
    {
     "data": {
      "text/plain": [
       "deque([1, 2, 3, 4, 5])"
      ]
     },
     "execution_count": 28,
     "metadata": {},
     "output_type": "execute_result"
    }
   ],
   "source": [
    "dq"
   ]
  },
  {
   "cell_type": "code",
   "execution_count": 29,
   "id": "9f95ad4b",
   "metadata": {},
   "outputs": [
    {
     "name": "stdout",
     "output_type": "stream",
     "text": [
      "1\n",
      "2\n",
      "3\n",
      "4\n",
      "5\n"
     ]
    }
   ],
   "source": [
    "for i in range(n):\n",
    "    print(dq.popleft())"
   ]
  },
  {
   "cell_type": "markdown",
   "id": "dabfa30a",
   "metadata": {},
   "source": [
    "[deque 정렬 참조블로그](https://blog.naver.com/PostView.naver?blogId=happynut&logNo=222838062043&categoryNo=194&parentCategoryNo=0&viewDate=&currentPage=1&postListTopCurrentPage=1&from=postView)\n",
    "\n",
    "* deque 정렬\n",
    "변수명 = deque(sorted(정렬할 deque))"
   ]
  },
  {
   "cell_type": "code",
   "execution_count": 17,
   "id": "a5ea8770",
   "metadata": {},
   "outputs": [
    {
     "name": "stdout",
     "output_type": "stream",
     "text": [
      "5\n",
      "5\n",
      "4\n",
      "3\n",
      "2\n",
      "1\n",
      "1\n",
      "2\n",
      "3\n",
      "4\n",
      "5\n",
      "2.4831299781799316\n"
     ]
    }
   ],
   "source": [
    "# 풀이 3 도전 - 이것도 시간초과!!!!\n",
    "# sort하지말고 if문으로 바로 deque에 넣을수 있을지?\n",
    "# deque 정렬 : 변수 = deque(sorted(데큐이름))\n",
    "\n",
    "from collections import deque\n",
    "\n",
    "n = int(input())\n",
    "nums = deque()\n",
    "for i in range(n):\n",
    "    num = int(input())\n",
    "    nums.append(num)\n",
    "    dq = deque(sorted(nums))\n",
    "# print(nums) # 정렬 전\n",
    "# print(dq) # 정렬 후\n",
    "\n",
    "for i in range(n):\n",
    "    print(dq.popleft())\n"
   ]
  },
  {
   "cell_type": "code",
   "execution_count": 1,
   "id": "e9080e9c",
   "metadata": {},
   "outputs": [
    {
     "name": "stdout",
     "output_type": "stream",
     "text": [
      "5\n",
      "5\n",
      "5\n",
      "4\n",
      "4\n",
      "3\n",
      "3\n",
      "2\n",
      "2\n",
      "1\n",
      "1\n"
     ]
    }
   ],
   "source": [
    "# 풀이 4 도전 - 시간초과를 어떻게 풀어야 하는거지..? for문을 쓰면 안되는건가?\n",
    "# deque 정렬 : 변수 = deque(sorted(데큐이름)) - 이건 출력됐어도 틀렸다고 나왔을듯\n",
    "\n",
    "from collections import deque\n",
    "# import sys\n",
    "# input = sys.stdin.readline\n",
    "\n",
    "n = int(input())\n",
    "nums = deque()\n",
    "for i in range(n):\n",
    "    num = int(input())\n",
    "    nums.append(num)\n",
    "    dq = deque(sorted(nums))\n",
    "    print(dq.popleft())\n"
   ]
  },
  {
   "cell_type": "code",
   "execution_count": 19,
   "id": "0fb8764f",
   "metadata": {},
   "outputs": [
    {
     "ename": "IndentationError",
     "evalue": "unexpected indent (1400251040.py, line 15)",
     "output_type": "error",
     "traceback": [
      "\u001b[1;36m  File \u001b[1;32m\"C:\\Users\\PC\\AppData\\Local\\Temp\\ipykernel_21060\\1400251040.py\"\u001b[1;36m, line \u001b[1;32m15\u001b[0m\n\u001b[1;33m    nums.sort()\u001b[0m\n\u001b[1;37m    ^\u001b[0m\n\u001b[1;31mIndentationError\u001b[0m\u001b[1;31m:\u001b[0m unexpected indent\n"
     ]
    }
   ],
   "source": [
    "##### deque가 해결책이 아닌건가??? sort를 어떻게 해야하는가~~~\n",
    "# 코드 길이가 일어서 그런가?\n",
    "# 이것도 시간초과`~~~~~ \n",
    "\n",
    "# import sys\n",
    "# input = sys.stdin.readline\n",
    "\n",
    "n = int(input())\n",
    "nums = []\n",
    "for i in range(n):\n",
    "    nums.append(int(input()))\n",
    "    nums.sort()\n",
    "for i in range(n):\n",
    "    print(nums[i])\n"
   ]
  },
  {
   "cell_type": "code",
   "execution_count": 20,
   "id": "b5d88671",
   "metadata": {},
   "outputs": [
    {
     "name": "stdout",
     "output_type": "stream",
     "text": [
      "5\n",
      "5\n",
      "4\n",
      "3\n",
      "2\n",
      "1\n",
      "1\n",
      "2\n",
      "3\n",
      "4\n",
      "5\n",
      "0.0\n"
     ]
    }
   ],
   "source": [
    "# 엥? 이거는 시간초과 안되고 제출됨!!!\n",
    "# 어째서지???\n",
    "# list.sort() 랑 sorted(list)에 속도차이가 많이 나는가?\n",
    "# 진짜로 속도차이 확인하려면 함수 만들어서 함수를 통한 계산 시간을 확인해야 할듯\n",
    "\n",
    "\n",
    "# import sys\n",
    "# input = sys.stdin.readline\n",
    "\n",
    "n = int(input())\n",
    "nums = []\n",
    "for i in range(n):\n",
    "    nums.append(int(input()))\n",
    "for i in sorted(nums):\n",
    "    print(i)"
   ]
  },
  {
   "cell_type": "markdown",
   "id": "640cd23d",
   "metadata": {},
   "source": [
    "# 2839 - 설탕 배달"
   ]
  },
  {
   "cell_type": "code",
   "execution_count": null,
   "id": "b5c3d676",
   "metadata": {},
   "outputs": [],
   "source": []
  },
  {
   "cell_type": "code",
   "execution_count": null,
   "id": "590c01eb",
   "metadata": {},
   "outputs": [],
   "source": []
  }
 ],
 "metadata": {
  "kernelspec": {
   "display_name": "Python 3 (ipykernel)",
   "language": "python",
   "name": "python3"
  },
  "language_info": {
   "codemirror_mode": {
    "name": "ipython",
    "version": 3
   },
   "file_extension": ".py",
   "mimetype": "text/x-python",
   "name": "python",
   "nbconvert_exporter": "python",
   "pygments_lexer": "ipython3",
   "version": "3.7.15"
  }
 },
 "nbformat": 4,
 "nbformat_minor": 5
}
