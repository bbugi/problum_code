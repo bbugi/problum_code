{
 "cells": [
  {
   "cell_type": "markdown",
   "id": "6b77dd1c",
   "metadata": {},
   "source": [
    "# 2587 - 대표값2"
   ]
  },
  {
   "cell_type": "code",
   "execution_count": 10,
   "id": "9de20bff",
   "metadata": {},
   "outputs": [],
   "source": [
    "# 풀이\n",
    "# 첫째줄에는 평균 출력, 둘째줄에는 중앙값 출력\n",
    "# 무조건 5개의 숫자를 입력받는다"
   ]
  },
  {
   "cell_type": "code",
   "execution_count": 12,
   "id": "cde6bfd6",
   "metadata": {},
   "outputs": [
    {
     "name": "stdout",
     "output_type": "stream",
     "text": [
      "10\n",
      "40\n",
      "30\n",
      "60\n",
      "30\n",
      "34\n",
      "30\n"
     ]
    }
   ],
   "source": [
    "nums = []\n",
    "for i in range(5):\n",
    "    n = int(input())\n",
    "    nums.append(n)\n",
    "    nums.sort()\n",
    "\n",
    "# 평균값\n",
    "print(int(sum(nums)/len(nums)))\n",
    "\n",
    "# 중앙값\n",
    "print(nums[2])"
   ]
  },
  {
   "cell_type": "markdown",
   "id": "151eb11f",
   "metadata": {},
   "source": [
    "# 2750 - 수 정렬하기"
   ]
  },
  {
   "cell_type": "code",
   "execution_count": null,
   "id": "4cc3e865",
   "metadata": {},
   "outputs": [],
   "source": [
    "# 풀이"
   ]
  },
  {
   "cell_type": "code",
   "execution_count": 1,
   "id": "c54810d5",
   "metadata": {},
   "outputs": [
    {
     "name": "stdout",
     "output_type": "stream",
     "text": [
      "5\n",
      "5\n"
     ]
    }
   ],
   "source": [
    "n = int(input())\n",
    "print(n)"
   ]
  },
  {
   "cell_type": "code",
   "execution_count": 9,
   "id": "7c41ee51",
   "metadata": {},
   "outputs": [
    {
     "name": "stdout",
     "output_type": "stream",
     "text": [
      "5\n",
      "5\n",
      "2\n",
      "3\n",
      "4\n",
      "1\n",
      "1\n",
      "2\n",
      "3\n",
      "4\n",
      "5\n"
     ]
    }
   ],
   "source": [
    "n = int(input())\n",
    "num = []\n",
    "for _ in range(n):\n",
    "    k = int(input())\n",
    "    num.append(k)\n",
    "    num.sort()\n",
    "for i in range(len(num)):\n",
    "    print(num[i])"
   ]
  },
  {
   "cell_type": "markdown",
   "id": "407e75d6",
   "metadata": {},
   "source": [
    "# 2751 - 수 정렬하기2"
   ]
  },
  {
   "cell_type": "code",
   "execution_count": null,
   "id": "510a2ee2",
   "metadata": {},
   "outputs": [],
   "source": [
    "# 수 정렬하기 문제와 동일한 문제인데\n",
    "# 똑같은 풀이법으로 진행시 시간초과 발생"
   ]
  },
  {
   "cell_type": "code",
   "execution_count": 13,
   "id": "c6cb19c3",
   "metadata": {},
   "outputs": [
    {
     "name": "stdout",
     "output_type": "stream",
     "text": [
      "5\n",
      "5\n",
      "4\n",
      "3\n",
      "2\n",
      "1\n",
      "1\n",
      "2\n",
      "3\n",
      "4\n",
      "5\n"
     ]
    }
   ],
   "source": [
    "# 풀이 1 - 제출시 시간초과 발생\n",
    "n = int(input())\n",
    "nums = []\n",
    "for i in range(n):\n",
    "    num = int(input())\n",
    "    nums.append(num)\n",
    "    nums.sort()\n",
    "for i in range(len(nums)):\n",
    "    print(nums[i])"
   ]
  },
  {
   "cell_type": "code",
   "execution_count": null,
   "id": "1458c0ba",
   "metadata": {},
   "outputs": [],
   "source": [
    "# deque를 통해 풀어볼까?\n",
    "# sort를 deque를 통해 바로 하는 방법이 있는지?\n",
    "# 아니면 list로 받아서 그걸 deque로 형변환 하여 사용할지?"
   ]
  },
  {
   "cell_type": "code",
   "execution_count": null,
   "id": "57b6bd24",
   "metadata": {},
   "outputs": [],
   "source": [
    "# 풀이 2 - 이것도 시간초과 뜸\n",
    "from collections import deque\n",
    "\n",
    "n=int(input())\n",
    "\n",
    "# 우선 리스트로 정렬\n",
    "nums = []\n",
    "for i in range(n):\n",
    "    num = int(input())\n",
    "    nums.append(num)\n",
    "    nums.sort()\n",
    "    \n",
    "# 출력하는걸 deque로 사용? 이게 속도 줄이는 데에 효과가 있나?\n",
    "dq = deque(nums)\n",
    "for i in range(n):\n",
    "    print(dq.popleft())"
   ]
  },
  {
   "cell_type": "code",
   "execution_count": 26,
   "id": "8b3d22c2",
   "metadata": {},
   "outputs": [
    {
     "name": "stdout",
     "output_type": "stream",
     "text": [
      "5\n",
      "5\n",
      "4\n",
      "3\n",
      "2\n",
      "1\n",
      "[1, 2, 3, 4, 5]\n"
     ]
    }
   ],
   "source": [
    "from collections import deque\n",
    "\n",
    "n=int(input())\n",
    "nums = []\n",
    "for i in range(n):\n",
    "    num = int(input())\n",
    "    nums.append(num)\n",
    "    nums.sort()\n",
    "# print(nums)"
   ]
  },
  {
   "cell_type": "code",
   "execution_count": 24,
   "id": "5f05e5ca",
   "metadata": {},
   "outputs": [
    {
     "data": {
      "text/plain": [
       "1"
      ]
     },
     "execution_count": 24,
     "metadata": {},
     "output_type": "execute_result"
    }
   ],
   "source": [
    "dq = deque(nums)\n",
    "dq.popleft()"
   ]
  },
  {
   "cell_type": "code",
   "execution_count": 27,
   "id": "32fef7e5",
   "metadata": {},
   "outputs": [],
   "source": [
    "dq = deque(nums)"
   ]
  },
  {
   "cell_type": "code",
   "execution_count": 28,
   "id": "eb875ec5",
   "metadata": {},
   "outputs": [
    {
     "data": {
      "text/plain": [
       "deque([1, 2, 3, 4, 5])"
      ]
     },
     "execution_count": 28,
     "metadata": {},
     "output_type": "execute_result"
    }
   ],
   "source": [
    "dq"
   ]
  },
  {
   "cell_type": "code",
   "execution_count": 29,
   "id": "3b5c282f",
   "metadata": {},
   "outputs": [
    {
     "name": "stdout",
     "output_type": "stream",
     "text": [
      "1\n",
      "2\n",
      "3\n",
      "4\n",
      "5\n"
     ]
    }
   ],
   "source": [
    "for i in range(n):\n",
    "    print(dq.popleft())"
   ]
  },
  {
   "cell_type": "markdown",
   "id": "1ca1badb",
   "metadata": {},
   "source": [
    "[deque 정렬 참조블로그](https://blog.naver.com/PostView.naver?blogId=happynut&logNo=222838062043&categoryNo=194&parentCategoryNo=0&viewDate=&currentPage=1&postListTopCurrentPage=1&from=postView)\n",
    "\n",
    "* deque 정렬\n",
    "변수명 = deque(sorted(정렬할 deque))"
   ]
  },
  {
   "cell_type": "code",
   "execution_count": 17,
   "id": "23003ead",
   "metadata": {},
   "outputs": [
    {
     "name": "stdout",
     "output_type": "stream",
     "text": [
      "5\n",
      "5\n",
      "4\n",
      "3\n",
      "2\n",
      "1\n",
      "1\n",
      "2\n",
      "3\n",
      "4\n",
      "5\n",
      "2.4831299781799316\n"
     ]
    }
   ],
   "source": [
    "# 풀이 3 도전 - 이것도 시간초과!!!!\n",
    "# sort하지말고 if문으로 바로 deque에 넣을수 있을지?\n",
    "# deque 정렬 : 변수 = deque(sorted(데큐이름))\n",
    "\n",
    "from collections import deque\n",
    "\n",
    "n = int(input())\n",
    "nums = deque()\n",
    "for i in range(n):\n",
    "    num = int(input())\n",
    "    nums.append(num)\n",
    "    dq = deque(sorted(nums))\n",
    "# print(nums) # 정렬 전\n",
    "# print(dq) # 정렬 후\n",
    "\n",
    "for i in range(n):\n",
    "    print(dq.popleft())\n"
   ]
  },
  {
   "cell_type": "code",
   "execution_count": 1,
   "id": "48e0d3be",
   "metadata": {},
   "outputs": [
    {
     "name": "stdout",
     "output_type": "stream",
     "text": [
      "5\n",
      "5\n",
      "5\n",
      "4\n",
      "4\n",
      "3\n",
      "3\n",
      "2\n",
      "2\n",
      "1\n",
      "1\n"
     ]
    }
   ],
   "source": [
    "# 풀이 4 도전 - 시간초과를 어떻게 풀어야 하는거지..? for문을 쓰면 안되는건가?\n",
    "# deque 정렬 : 변수 = deque(sorted(데큐이름)) - 이건 출력됐어도 틀렸다고 나왔을듯\n",
    "\n",
    "from collections import deque\n",
    "# import sys\n",
    "# input = sys.stdin.readline\n",
    "\n",
    "n = int(input())\n",
    "nums = deque()\n",
    "for i in range(n):\n",
    "    num = int(input())\n",
    "    nums.append(num)\n",
    "    dq = deque(sorted(nums))\n",
    "    print(dq.popleft())\n"
   ]
  },
  {
   "cell_type": "code",
   "execution_count": 19,
   "id": "f203f736",
   "metadata": {},
   "outputs": [
    {
     "ename": "IndentationError",
     "evalue": "unexpected indent (1400251040.py, line 15)",
     "output_type": "error",
     "traceback": [
      "\u001b[1;36m  File \u001b[1;32m\"C:\\Users\\PC\\AppData\\Local\\Temp\\ipykernel_21060\\1400251040.py\"\u001b[1;36m, line \u001b[1;32m15\u001b[0m\n\u001b[1;33m    nums.sort()\u001b[0m\n\u001b[1;37m    ^\u001b[0m\n\u001b[1;31mIndentationError\u001b[0m\u001b[1;31m:\u001b[0m unexpected indent\n"
     ]
    }
   ],
   "source": [
    "##### deque가 해결책이 아닌건가??? sort를 어떻게 해야하는가~~~\n",
    "# 코드 길이가 일어서 그런가?\n",
    "# 이것도 시간초과`~~~~~ \n",
    "\n",
    "# import sys\n",
    "# input = sys.stdin.readline\n",
    "\n",
    "n = int(input())\n",
    "nums = []\n",
    "for i in range(n):\n",
    "    nums.append(int(input()))\n",
    "    nums.sort()\n",
    "for i in range(n):\n",
    "    print(nums[i])\n"
   ]
  },
  {
   "cell_type": "code",
   "execution_count": 20,
   "id": "267f7d3e",
   "metadata": {},
   "outputs": [
    {
     "name": "stdout",
     "output_type": "stream",
     "text": [
      "5\n",
      "5\n",
      "4\n",
      "3\n",
      "2\n",
      "1\n",
      "1\n",
      "2\n",
      "3\n",
      "4\n",
      "5\n",
      "0.0\n"
     ]
    }
   ],
   "source": [
    "# 엥? 이거는 시간초과 안되고 제출됨!!!\n",
    "# 어째서지???\n",
    "# list.sort() 랑 sorted(list)에 속도차이가 많이 나는가?\n",
    "# 진짜로 속도차이 확인하려면 함수 만들어서 함수를 통한 계산 시간을 확인해야 할듯\n",
    "\n",
    "\n",
    "# import sys\n",
    "# input = sys.stdin.readline\n",
    "\n",
    "n = int(input())\n",
    "nums = []\n",
    "for i in range(n):\n",
    "    nums.append(int(input()))\n",
    "for i in sorted(nums):\n",
    "    print(i)"
   ]
  },
  {
   "cell_type": "markdown",
   "id": "f74beae0",
   "metadata": {},
   "source": [
    "# 2839 - 설탕 배달"
   ]
  },
  {
   "cell_type": "code",
   "execution_count": null,
   "id": "36396193",
   "metadata": {},
   "outputs": [],
   "source": [
    "# 3킬로, 5킬로로 나눠지면 최소 봉지수 출력\n",
    "# 안나눠지면 -1 출력\n",
    "# 분해합처럼 풀면 되는건가?"
   ]
  },
  {
   "cell_type": "code",
   "execution_count": 34,
   "id": "4dae3352",
   "metadata": {},
   "outputs": [
    {
     "name": "stdout",
     "output_type": "stream",
     "text": [
      "20\n",
      "20\n"
     ]
    }
   ],
   "source": [
    "n = int(input())\n",
    "print(n)"
   ]
  },
  {
   "cell_type": "code",
   "execution_count": 54,
   "id": "bb83eed9",
   "metadata": {},
   "outputs": [],
   "source": [
    "n = 18\n",
    "x = 3\n",
    "y = 1"
   ]
  },
  {
   "cell_type": "code",
   "execution_count": 57,
   "id": "530dfa31",
   "metadata": {},
   "outputs": [
    {
     "name": "stdout",
     "output_type": "stream",
     "text": [
      "true\n"
     ]
    }
   ],
   "source": [
    "if n - 5*x - 3*y == 0:\n",
    "    print('true')"
   ]
  },
  {
   "cell_type": "code",
   "execution_count": 110,
   "id": "9fcb86f2",
   "metadata": {},
   "outputs": [
    {
     "name": "stdout",
     "output_type": "stream",
     "text": [
      "30\n",
      "6\n"
     ]
    }
   ],
   "source": [
    "\n",
    "# def bag(n):\n",
    "#     answer = []\n",
    "#     for x in range(0, n):\n",
    "#         if n - 5*x == 0:\n",
    "#             answer.append(x)\n",
    "#         if n - 5*x !=\n",
    "#             n = n - 5*x\n",
    "#             for y in range(0, n):\n",
    "#                 if n - 3*y == 0:\n",
    "#                     answer.append(y)\n",
    "                    \n",
    "                \n",
    "                \n",
    "                \n",
    "                \n",
    "                \n",
    "# #         for y in range(0, n//3+1):\n",
    "# #             if n - 5*x - 3*y == 0:\n",
    "# #                 print(x+y)\n",
    "# #                 answer.append(x+y)\n",
    "# #                 print('answer:' , answer)\n",
    "# #                 return min(answer)\n",
    "\n",
    "# n = int(input())\n",
    "# print(bag(n))"
   ]
  },
  {
   "cell_type": "code",
   "execution_count": 155,
   "id": "a77399b8",
   "metadata": {},
   "outputs": [
    {
     "name": "stdout",
     "output_type": "stream",
     "text": [
      "6\n",
      "2\n"
     ]
    }
   ],
   "source": [
    "# 제출 코드\n",
    "# 코드 하나씩 뜯어서 해결은 했는데\n",
    "# 어떤 알고리즘으로 풀리는 것인지 모르겠음\n",
    "# 나중에 코드 다시 수정해볼 것\n",
    "\n",
    "n = int(input())\n",
    "def bag(n):\n",
    "    ans = []\n",
    "    for x in range(0, n//5+1):\n",
    "        for y in range(0, n//3+1):\n",
    "            if n - 5*x - 3*y == 0:\n",
    "                ans.append(x+y)\n",
    "\n",
    "    if len(ans) == 0:\n",
    "        return -1\n",
    "    else:\n",
    "        return min(ans)\n",
    "\n",
    "print(bag(n))"
   ]
  },
  {
   "cell_type": "code",
   "execution_count": null,
   "id": "4fa941cc",
   "metadata": {},
   "outputs": [],
   "source": []
  }
 ],
 "metadata": {
  "kernelspec": {
   "display_name": "Python 3",
   "language": "python",
   "name": "python3"
  },
  "language_info": {
   "codemirror_mode": {
    "name": "ipython",
    "version": 3
   },
   "file_extension": ".py",
   "mimetype": "text/x-python",
   "name": "python",
   "nbconvert_exporter": "python",
   "pygments_lexer": "ipython3",
   "version": "3.10.9 (tags/v3.10.9:1dd9be6, Dec  6 2022, 20:01:21) [MSC v.1934 64 bit (AMD64)]"
  },
  "vscode": {
   "interpreter": {
    "hash": "7b1f2b33e866b0bf2409397e5f58ba9cdf170d3b7f64c8f359c79998e2f88ad4"
   }
  }
 },
 "nbformat": 4,
 "nbformat_minor": 5
}
